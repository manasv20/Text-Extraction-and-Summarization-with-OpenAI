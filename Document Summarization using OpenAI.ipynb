{
 "cells": [
  {
   "cell_type": "code",
   "execution_count": 1,
   "id": "979e8b7f",
   "metadata": {},
   "outputs": [],
   "source": [
    "import os\n",
    "import openai\n",
    "import PyPDF2\n",
    "import fitz"
   ]
  },
  {
   "cell_type": "code",
   "execution_count": 2,
   "id": "7ccd0cc0",
   "metadata": {},
   "outputs": [],
   "source": [
    "openai.api_key = 'your-openai-key'"
   ]
  },
  {
   "cell_type": "code",
   "execution_count": 5,
   "id": "d2f71efa",
   "metadata": {},
   "outputs": [],
   "source": [
    "def extract_text_from_pdf(pdf_path):\n",
    "    document = fitz.open(pdf_path)\n",
    "    \n",
    "    \n",
    "    text = \"\"\n",
    "    \n",
    "    \n",
    "    for page_num in range(document.page_count):\n",
    "        page = document.load_page(page_num)\n",
    "        text += page.get_text()\n",
    "    \n",
    "    return text"
   ]
  },
  {
   "cell_type": "code",
   "execution_count": 11,
   "id": "154ae572",
   "metadata": {},
   "outputs": [],
   "source": [
    "def summarize_text(text):\n",
    "    response = openai.ChatCompletion.create(\n",
    "        model=\"gpt-3.5-turbo\",\n",
    "        messages=[\n",
    "            {\"role\": \"system\", \"content\": \"You are a helpful assistant.\"},\n",
    "            {\"role\": \"user\", \"content\": f\"Summarize the following text:\\n\\n{text}\"}\n",
    "        ],\n",
    "        max_tokens=1024,  \n",
    "        temperature=0.5,\n",
    "    )\n",
    "    \n",
    "    summary = response['choices'][0]['message']['content'].strip()\n",
    "    return summary"
   ]
  },
  {
   "cell_type": "code",
   "execution_count": 12,
   "id": "9b3db4d0",
   "metadata": {},
   "outputs": [
    {
     "name": "stdout",
     "output_type": "stream",
     "text": [
      "Summary:\n",
      "This text is a competitive intelligence analysis focusing on the Boston and New York City markets for three-year-old Ford Mustangs. Web scraping methods were used to collect data on car prices and depreciation rates. The average cost of a Ford Mustang in Boston was found to be $27,576 with an -8.45% depreciation rate, while in New York City, it was $20,078 with a 1.16% depreciation rate. The report provides pricing recommendations for those interested in buying a three-year-old Ford Mustang in each location, along with insights into market trends and limitations of the study. The appendix includes screenshots of data collected for both cities.\n"
     ]
    }
   ],
   "source": [
    "if __name__ == \"__main__\":\n",
    "    pdf_path = \"/Users/manasverma/Desktop/REST APIs/CNN/Assignment4AD688.pdf\"  \n",
    "    text = extract_text_from_pdf(pdf_path)\n",
    "    summary = summarize_text(text)\n",
    "    print(\"Summary:\")\n",
    "    print(summary)"
   ]
  }
 ],
 "metadata": {
  "kernelspec": {
   "display_name": "Python 3 (ipykernel)",
   "language": "python",
   "name": "python3"
  },
  "language_info": {
   "codemirror_mode": {
    "name": "ipython",
    "version": 3
   },
   "file_extension": ".py",
   "mimetype": "text/x-python",
   "name": "python",
   "nbconvert_exporter": "python",
   "pygments_lexer": "ipython3",
   "version": "3.8.18"
  }
 },
 "nbformat": 4,
 "nbformat_minor": 5
}
